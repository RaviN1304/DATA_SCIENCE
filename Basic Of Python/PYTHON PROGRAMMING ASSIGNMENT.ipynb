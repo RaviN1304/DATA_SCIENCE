{
 "cells": [
  {
   "cell_type": "markdown",
   "id": "e305f3dc-1d4a-4a00-a4f3-b22925d89b09",
   "metadata": {},
   "source": [
    "# Excercise 1"
   ]
  },
  {
   "cell_type": "markdown",
   "id": "86fea55c-b3c2-44c0-bbb1-9f4f7fa90e3a",
   "metadata": {},
   "source": [
    "# Exercise 1: Prime Numbers\n",
    "# Write a Python program that checks whether a given number is prime or not. A prime number is a natural number greater than 1 that has no positive divisors other than 1 and itself.\n"
   ]
  },
  {
   "cell_type": "code",
   "execution_count": 3,
   "id": "325a29d8-d8d8-4c80-b3fc-630e31354e33",
   "metadata": {},
   "outputs": [],
   "source": [
    "#identifying prime numbers "
   ]
  },
  {
   "cell_type": "code",
   "execution_count": 4,
   "id": "7cb2fe84-a536-40fc-a234-ff9144039186",
   "metadata": {},
   "outputs": [
    {
     "name": "stdin",
     "output_type": "stream",
     "text": [
      "Enter Your number: 5\n"
     ]
    },
    {
     "name": "stdout",
     "output_type": "stream",
     "text": [
      "It is a Prime Number\n"
     ]
    }
   ],
   "source": [
    "n= int(input(\"Enter Your number:\"))\n",
    "if n<2:\n",
    "    print(\"Not a Prime Number\")\n",
    "else:\n",
    "    for i in range (2,n):\n",
    "        if n%i ==0:\n",
    "            print(\"Not a prime number\")\n",
    "            break\n",
    "    else:\n",
    "        print(\"It is a Prime Number\")"
   ]
  },
  {
   "cell_type": "code",
   "execution_count": 5,
   "id": "5a2f1087-3ee3-4c34-8992-b9d72fc73548",
   "metadata": {},
   "outputs": [
    {
     "name": "stdin",
     "output_type": "stream",
     "text": [
      "Enter the number here:  37\n"
     ]
    },
    {
     "name": "stdout",
     "output_type": "stream",
     "text": [
      "Prime Number\n"
     ]
    }
   ],
   "source": [
    "#second method\n",
    "n= int(input(\"Enter the number here: \"))\n",
    "if n==1:\n",
    "    print(\"Not Prime Number\")\n",
    "if n>1:\n",
    "    for i in range(2,n):\n",
    "        if n % i == 0:\n",
    "            print(\"Not Prime Number\")\n",
    "            break\n",
    "    else:\n",
    "        print(\"Prime Number\")"
   ]
  },
  {
   "cell_type": "markdown",
   "id": "daf52a92-9c24-4a35-91e7-31317d53803b",
   "metadata": {},
   "source": [
    "# Exercise 2"
   ]
  },
  {
   "cell_type": "markdown",
   "id": "2727a745-9563-47b1-95e4-02c1d02cc5ca",
   "metadata": {},
   "source": [
    "# Develop a Python program that generates two random numbers and asks the user to enter the product of these numbers. The program should then check if the user's answer is correct and display an appropriate message"
   ]
  },
  {
   "cell_type": "code",
   "execution_count": 3,
   "id": "c3384fb5-2bc1-4bcd-8962-9802c80e8d49",
   "metadata": {},
   "outputs": [],
   "source": [
    "import numpy as np"
   ]
  },
  {
   "cell_type": "code",
   "execution_count": 34,
   "id": "5fbc7edf-a6b7-46e0-89b6-9f6b601d2a1f",
   "metadata": {},
   "outputs": [
    {
     "name": "stdout",
     "output_type": "stream",
     "text": [
      "4\n",
      "9\n"
     ]
    },
    {
     "name": "stdin",
     "output_type": "stream",
     "text": [
      "Enter the product: 36\n"
     ]
    },
    {
     "name": "stdout",
     "output_type": "stream",
     "text": [
      "Correct ! Great Job!\n"
     ]
    }
   ],
   "source": [
    "num1= np.random.randint(0,10)\n",
    "num2= np.random.randint(0,10)\n",
    "print(num1)\n",
    "print(num2)\n",
    "correct_product=num1*num2\n",
    "while True:\n",
    "    user_answer= int(input('Enter the product:',))\n",
    "    if user_answer== correct_product:\n",
    "        print('Correct ! Great Job!')\n",
    "        break\n",
    "    else:\n",
    "        print('Incorrect answer,try again')\n",
    "        break\n",
    "                "
   ]
  },
  {
   "cell_type": "code",
   "execution_count": 4,
   "id": "ecff7127-5003-47ef-8eee-79a53b1bbfbc",
   "metadata": {},
   "outputs": [],
   "source": [
    "# Exercise 3: Squares of Even/Odd Numbers"
   ]
  },
  {
   "cell_type": "markdown",
   "id": "138db3ce-ce5a-4a98-80fa-45f4c30eaa50",
   "metadata": {},
   "source": [
    "# Create a Python script that prints the squares of all even or odd numbers within the range of 100 to 200. Choose either even or odd numbers and document your choice in the code.\n"
   ]
  },
  {
   "cell_type": "code",
   "execution_count": 13,
   "id": "3314a404-02c3-4deb-8302-3ff67648a3ce",
   "metadata": {},
   "outputs": [
    {
     "name": "stdout",
     "output_type": "stream",
     "text": [
      "10000\n",
      "10404\n",
      "10816\n",
      "11236\n",
      "11664\n",
      "12100\n",
      "12544\n",
      "12996\n",
      "13456\n",
      "13924\n",
      "14400\n",
      "14884\n",
      "15376\n",
      "15876\n",
      "16384\n",
      "16900\n",
      "17424\n",
      "17956\n",
      "18496\n",
      "19044\n",
      "19600\n",
      "20164\n",
      "20736\n",
      "21316\n",
      "21904\n",
      "22500\n",
      "23104\n",
      "23716\n",
      "24336\n",
      "24964\n",
      "25600\n",
      "26244\n",
      "26896\n",
      "27556\n",
      "28224\n",
      "28900\n",
      "29584\n",
      "30276\n",
      "30976\n",
      "31684\n",
      "32400\n",
      "33124\n",
      "33856\n",
      "34596\n",
      "35344\n",
      "36100\n",
      "36864\n",
      "37636\n",
      "38416\n",
      "39204\n",
      "40000\n"
     ]
    }
   ],
   "source": [
    "# squares of even numbers.\n",
    "\n",
    "for i in range (100,201):\n",
    "    if i%2== 0:\n",
    "        i= i**2\n",
    "        print(i)"
   ]
  },
  {
   "cell_type": "code",
   "execution_count": null,
   "id": "83808fae-1107-4d15-af63-0b7655a15580",
   "metadata": {},
   "outputs": [],
   "source": [
    "# Square of odd numbers between 100 to 200"
   ]
  },
  {
   "cell_type": "code",
   "execution_count": 15,
   "id": "5a42dfb2-a505-4701-837b-7f4b5e6d4d68",
   "metadata": {},
   "outputs": [
    {
     "name": "stdout",
     "output_type": "stream",
     "text": [
      "10201\n",
      "10609\n",
      "11025\n",
      "11449\n",
      "11881\n",
      "12321\n",
      "12769\n",
      "13225\n",
      "13689\n",
      "14161\n",
      "14641\n",
      "15129\n",
      "15625\n",
      "16129\n",
      "16641\n",
      "17161\n",
      "17689\n",
      "18225\n",
      "18769\n",
      "19321\n",
      "19881\n",
      "20449\n",
      "21025\n",
      "21609\n",
      "22201\n",
      "22801\n",
      "23409\n",
      "24025\n",
      "24649\n",
      "25281\n",
      "25921\n",
      "26569\n",
      "27225\n",
      "27889\n",
      "28561\n",
      "29241\n",
      "29929\n",
      "30625\n",
      "31329\n",
      "32041\n",
      "32761\n",
      "33489\n",
      "34225\n",
      "34969\n",
      "35721\n",
      "36481\n",
      "37249\n",
      "38025\n",
      "38809\n",
      "39601\n"
     ]
    }
   ],
   "source": [
    "for i in range (100,201):\n",
    "    if i%2!= 0:\n",
    "        i=i**2\n",
    "        print(i)"
   ]
  },
  {
   "cell_type": "markdown",
   "id": "9ea4774d-c595-4346-b95f-87674d956265",
   "metadata": {},
   "source": [
    "# Exercise 4"
   ]
  },
  {
   "cell_type": "markdown",
   "id": "42cf9839-7699-4dbc-a04a-37abb96e43df",
   "metadata": {},
   "source": [
    "# Write a Program to count the number of words in a given text.\r\n",
    "\r\n"
   ]
  },
  {
   "cell_type": "code",
   "execution_count": null,
   "id": "de618602-a720-49b1-b2a3-a476066d22fb",
   "metadata": {},
   "outputs": [],
   "source": [
    "#example:\n",
    "# input_text = \"This is a sample text. This text will be used to demonstrate the word counter.\"\n",
    "# Expected output:\n",
    "# 'This': 2 \n",
    "# 'is': 1\n",
    "# 'a': 1\n",
    "# 'sample': 1\n",
    "# 'text.': 1"
   ]
  },
  {
   "cell_type": "code",
   "execution_count": 17,
   "id": "07270152-ff2e-435b-b420-062599957c8e",
   "metadata": {},
   "outputs": [
    {
     "name": "stdin",
     "output_type": "stream",
     "text": [
      "Enter your text:  hi how are you\n"
     ]
    },
    {
     "name": "stdout",
     "output_type": "stream",
     "text": [
      "The number of words in the given text is: 4\n"
     ]
    }
   ],
   "source": [
    "# Input text from the user\n",
    "text = input(\"Enter your text: \")\n",
    "\n",
    "# Count the words by splitting the text and finding the length of the resulting list\n",
    "word_count = len(text.split())\n",
    "\n",
    "# Display the word count\n",
    "print(f\"The number of words in the given text is: {word_count}\")\n"
   ]
  },
  {
   "cell_type": "markdown",
   "id": "c6559548-8bfd-47c1-8456-beaf68075c7b",
   "metadata": {},
   "source": [
    "## 2nd method "
   ]
  },
  {
   "cell_type": "code",
   "execution_count": 13,
   "id": "fc183f35-33f2-4c8e-a240-ca2e1d5005e1",
   "metadata": {},
   "outputs": [
    {
     "name": "stdin",
     "output_type": "stream",
     "text": [
      "Enter your text: hi how are you\n"
     ]
    },
    {
     "name": "stdout",
     "output_type": "stream",
     "text": [
      "number of words: 4\n",
      "number of characters: 14\n"
     ]
    }
   ],
   "source": [
    "text= input('Enter your text:',)\n",
    "char= 0\n",
    "word=1\n",
    "for i in text:\n",
    "    char=char+1\n",
    "    if (i==' '):\n",
    "        word=word+1\n",
    "print('number of words:',word)\n",
    "print('number of characters:', char)\n"
   ]
  },
  {
   "cell_type": "markdown",
   "id": "945e69a6-a973-40ec-a372-e28488dc4c13",
   "metadata": {},
   "source": [
    "# Exercise 5: Check for Palindrome"
   ]
  },
  {
   "cell_type": "code",
   "execution_count": 9,
   "id": "cf3a9293-c5e4-4b5f-96ff-8fe23a52a0d7",
   "metadata": {},
   "outputs": [],
   "source": [
    "#  Write a Python function called is_palindrome that takes a string as input and returns True if the string is a palindrome,\n",
    "# and False otherwise. A palindrome is a word, phrase, number, or other sequence of characters that reads the same forward\n",
    "# and backward, ignoring spaces, punctuation, and capitalization."
   ]
  },
  {
   "cell_type": "code",
   "execution_count": 11,
   "id": "b8bb506d-7cbb-47ca-a45a-66736fe09f97",
   "metadata": {},
   "outputs": [
    {
     "name": "stdin",
     "output_type": "stream",
     "text": [
      "Enter your value:  madam\n"
     ]
    },
    {
     "name": "stdout",
     "output_type": "stream",
     "text": [
      "True, String is Palindrome\n"
     ]
    }
   ],
   "source": [
    "string= input('Enter your value: ')\n",
    "reverse= string[::-1]\n",
    "if string==reverse:\n",
    "    print('True, String is Palindrome')\n",
    "else:\n",
    "    print('False, String is not Palindrome')"
   ]
  },
  {
   "cell_type": "markdown",
   "id": "39c282ce-42c2-4310-8f93-d6fa8b142c27",
   "metadata": {},
   "source": [
    "## 2nd Method"
   ]
  },
  {
   "cell_type": "code",
   "execution_count": 27,
   "id": "35ec64c5-bdd1-488e-b080-c4ee00e9e145",
   "metadata": {},
   "outputs": [
    {
     "name": "stdin",
     "output_type": "stream",
     "text": [
      "Enter a string to check if it's a palindrome:  mom\n"
     ]
    },
    {
     "name": "stdout",
     "output_type": "stream",
     "text": [
      "The string is a palindrome.\n"
     ]
    }
   ],
   "source": [
    "def is_palindrome(s):\n",
    "    \n",
    "    # Remove spaces and convert to lowercase\n",
    "    string = ''.join(c for c in s if c.isalnum()).lower()\n",
    "    return string == string[::-1]\n",
    "\n",
    "# Example usage\n",
    "text = input(\"Enter a string to check if it's a palindrome: \")\n",
    "if is_palindrome(text):\n",
    "    print(\"The string is a palindrome.\")\n",
    "else:\n",
    "    print(\"The string is not a palindrome.\")"
   ]
  },
  {
   "cell_type": "code",
   "execution_count": null,
   "id": "abefb673-843b-4533-a683-c09735130635",
   "metadata": {},
   "outputs": [],
   "source": []
  }
 ],
 "metadata": {
  "kernelspec": {
   "display_name": "Python 3 (ipykernel)",
   "language": "python",
   "name": "python3"
  },
  "language_info": {
   "codemirror_mode": {
    "name": "ipython",
    "version": 3
   },
   "file_extension": ".py",
   "mimetype": "text/x-python",
   "name": "python",
   "nbconvert_exporter": "python",
   "pygments_lexer": "ipython3",
   "version": "3.12.4"
  }
 },
 "nbformat": 4,
 "nbformat_minor": 5
}
