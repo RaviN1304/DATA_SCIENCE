{
 "cells": [
  {
   "cell_type": "raw",
   "id": "5b83d559-06d9-4f22-b48d-5afd11c9f0e5",
   "metadata": {},
   "source": [
    "A manufacturer of print-heads for personal computers is interested in estimating the mean durability of their print-heads in terms of the number of characters printed before failure. To assess this, the manufacturer conducts a study on a small sample of print-heads due to the destructive nature of the testing process.\n",
    "Data\n",
    "A total of 15 print-heads were randomly selected and tested until failure. The durability of each print-head (in millions of characters) was recorded as follows:\n",
    "1.13, 1.55, 1.43, 0.92, 1.25, 1.36, 1.32, 0.85, 1.07, 1.48, 1.20, 1.33, 1.18, 1.22, 1.29\n",
    "Assignment Tasks\n",
    "a. Build 99% Confidence Interval Using Sample Standard Deviation\n",
    "Assuming the sample is representative of the population, construct a 99% confidence interval for the mean number of characters printed before the print-head fails using the sample standard deviation. Explain the steps you take and the rationale behind using the t-distribution for this task.\n",
    "b. Build 99% Confidence Interval Using Known Population Standard Deviation\n",
    "If it were known that the population standard deviation is 0.2 million characters, construct a 99% confidence interval for the mean number of characters printed before failure.\n",
    "\n"
   ]
  },
  {
   "cell_type": "code",
   "execution_count": 1,
   "id": "e16089b6-5934-49cc-acd5-bb0f05441491",
   "metadata": {},
   "outputs": [],
   "source": [
    "import scipy.stats as stats\n",
    "import numpy as np"
   ]
  },
  {
   "cell_type": "code",
   "execution_count": 3,
   "id": "a01a6d70-63a7-4442-9be6-9fdc4aea453e",
   "metadata": {},
   "outputs": [],
   "source": [
    "# data given \n",
    "data= [1.13, 1.55, 1.43, 0.92, 1.25, 1.36, 1.32, 0.85, 1.07, 1.48, 1.20, 1.33, 1.18, 1.22, 1.29]"
   ]
  },
  {
   "cell_type": "code",
   "execution_count": 7,
   "id": "a3be66eb-7f28-46dd-98d4-ba185ce181aa",
   "metadata": {},
   "outputs": [
    {
     "data": {
      "text/plain": [
       "15"
      ]
     },
     "execution_count": 7,
     "metadata": {},
     "output_type": "execute_result"
    }
   ],
   "source": [
    "#sample size n:\n",
    "n=len(data)\n",
    "n"
   ]
  },
  {
   "cell_type": "code",
   "execution_count": 15,
   "id": "08ba55cd-22c9-4322-9a77-d462c7983de2",
   "metadata": {},
   "outputs": [
    {
     "name": "stdout",
     "output_type": "stream",
     "text": [
      "Sample Mean:\n",
      " 1.2386666666666666\n",
      "Sample Standard Deviation:\n",
      " 0.19316412956959936\n"
     ]
    }
   ],
   "source": [
    "# Sample mean and sample standard deviation\n",
    "\n",
    "x_bar=np.mean(data)\n",
    "sample_std=np.std(data,ddof=1) #degree of freedom for sample std deviation\n",
    "\n",
    "print('Sample Mean:\\n',x_bar)\n",
    "print('Sample Standard Deviation:\\n',sample_std)"
   ]
  },
  {
   "cell_type": "markdown",
   "id": "a3a1a263-9682-4139-b75a-7120d5e3c5b3",
   "metadata": {},
   "source": [
    "#  Build 99% Confidence Interval Using Sample Standard Deviation"
   ]
  },
  {
   "cell_type": "code",
   "execution_count": 18,
   "id": "ff64535d-aa78-4614-8cd3-283f83b45da1",
   "metadata": {},
   "outputs": [],
   "source": [
    "confidence_level=0.99\n",
    "alpha= 1-confidence_level"
   ]
  },
  {
   "cell_type": "code",
   "execution_count": 24,
   "id": "040f3d94-ba86-48f5-92c1-a739884cfb0c",
   "metadata": {},
   "outputs": [
    {
     "data": {
      "text/plain": [
       "2.976842734370834"
      ]
     },
     "execution_count": 24,
     "metadata": {},
     "output_type": "execute_result"
    }
   ],
   "source": [
    "# Critical t-value for the sample standard deviation\n",
    "\n",
    "t_critical = stats.t.ppf(1 - alpha/2, df=n-1)\n",
    "t_critical"
   ]
  },
  {
   "cell_type": "code",
   "execution_count": 28,
   "id": "05ed5d9d-d31f-41cc-af22-94e17557014d",
   "metadata": {},
   "outputs": [
    {
     "data": {
      "text/plain": [
       "0.14846932822817596"
      ]
     },
     "execution_count": 28,
     "metadata": {},
     "output_type": "execute_result"
    }
   ],
   "source": [
    "# Margin of error using sample standard deviation\n",
    "\n",
    "margin_error_sample = t_critical * (sample_std / np.sqrt(n))\n",
    "margin_error_sample"
   ]
  },
  {
   "cell_type": "code",
   "execution_count": 34,
   "id": "90e5b602-b39b-4ac5-a8ff-764a26afc6f6",
   "metadata": {},
   "outputs": [
    {
     "data": {
      "text/plain": [
       "(1.0901973384384906, 1.3871359948948425)"
      ]
     },
     "execution_count": 34,
     "metadata": {},
     "output_type": "execute_result"
    }
   ],
   "source": [
    "# Confidence interval using sample standard deviation at 99% ci\n",
    "\n",
    "ci_sample = (x_bar - margin_error_sample, x_bar + margin_error_sample)\n",
    "ci_sample"
   ]
  },
  {
   "cell_type": "markdown",
   "id": "87c251be-ded8-4d1d-8604-e37e0ffa100b",
   "metadata": {},
   "source": [
    "# Build 99% Confidence Interval Using Known Population Standard Deviation"
   ]
  },
  {
   "cell_type": "code",
   "execution_count": 37,
   "id": "9aac223a-5c4f-42db-aa70-5d17e98f7d72",
   "metadata": {},
   "outputs": [],
   "source": [
    "# given,\n",
    "pop_std = 0.2  #population standard deviation in million characters"
   ]
  },
  {
   "cell_type": "code",
   "execution_count": 41,
   "id": "ee116ad5-61ff-4b3f-99cc-2b476fb260b0",
   "metadata": {},
   "outputs": [
    {
     "data": {
      "text/plain": [
       "2.5758293035489004"
      ]
     },
     "execution_count": 41,
     "metadata": {},
     "output_type": "execute_result"
    }
   ],
   "source": [
    "#population standard deviation has given so we go for Z-test.\n",
    "\n",
    "z_critical=stats.norm.ppf(1-alpha/2)\n",
    "z_critical"
   ]
  },
  {
   "cell_type": "code",
   "execution_count": 43,
   "id": "7c8823ee-9225-4fd4-8037-b680d5513935",
   "metadata": {},
   "outputs": [
    {
     "data": {
      "text/plain": [
       "0.13301525327090588"
      ]
     },
     "execution_count": 43,
     "metadata": {},
     "output_type": "execute_result"
    }
   ],
   "source": [
    "# Margin of erro using population standard deviation\n",
    "\n",
    "margin_error_population=z_critical * (pop_std / np.sqrt(n))\n",
    "margin_error_population"
   ]
  },
  {
   "cell_type": "code",
   "execution_count": 47,
   "id": "6f09222d-00cd-422b-80ff-db831e2229bd",
   "metadata": {},
   "outputs": [
    {
     "data": {
      "text/plain": [
       "(1.1056514133957607, 1.3716819199375725)"
      ]
     },
     "execution_count": 47,
     "metadata": {},
     "output_type": "execute_result"
    }
   ],
   "source": [
    "# Confidence interval using population standard deviation\n",
    "\n",
    "ci_population = (x_bar - margin_error_population, x_bar + margin_error_population)\n",
    "ci_population"
   ]
  },
  {
   "cell_type": "markdown",
   "id": "fffd44d8-5765-44d7-806b-c50a05c02c85",
   "metadata": {},
   "source": [
    "# Results"
   ]
  },
  {
   "cell_type": "code",
   "execution_count": 60,
   "id": "0e40583d-b7b4-42a6-8876-5b3cd3602960",
   "metadata": {},
   "outputs": [
    {
     "name": "stdout",
     "output_type": "stream",
     "text": [
      "Sample Mean : 1.239 million characters\n",
      "Sample Standard Deviation : 0.193\n",
      "\n",
      "99% Confidence Interval (using sample standard deviation): 1.090 to 1.387 million characters\n",
      "99% Confidence Interval (using known population standard deviation): 1.106 to 1.372 million characters\n"
     ]
    }
   ],
   "source": [
    "print(f\"Sample Mean : {x_bar:.3f} million characters\")\n",
    "print(f\"Sample Standard Deviation : {sample_std:.3f}\\n\")\n",
    "print(f\"99% Confidence Interval (using sample standard deviation): {ci_sample[0]:.3f} to {ci_sample[1]:.3f} million characters\")\n",
    "print(f\"99% Confidence Interval (using known population standard deviation): {ci_population[0]:.3f} to {ci_population[1]:.3f} million characters\")"
   ]
  },
  {
   "cell_type": "code",
   "execution_count": null,
   "id": "3fbdda4f-5d83-4d3b-9c2b-3c3861848cf7",
   "metadata": {},
   "outputs": [],
   "source": []
  }
 ],
 "metadata": {
  "kernelspec": {
   "display_name": "Python 3 (ipykernel)",
   "language": "python",
   "name": "python3"
  },
  "language_info": {
   "codemirror_mode": {
    "name": "ipython",
    "version": 3
   },
   "file_extension": ".py",
   "mimetype": "text/x-python",
   "name": "python",
   "nbconvert_exporter": "python",
   "pygments_lexer": "ipython3",
   "version": "3.12.4"
  }
 },
 "nbformat": 4,
 "nbformat_minor": 5
}
