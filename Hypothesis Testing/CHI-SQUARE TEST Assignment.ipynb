{
 "cells": [
  {
   "cell_type": "raw",
   "id": "cdcfebbf-d0d5-4f23-8f17-d7bda518574e",
   "metadata": {},
   "source": [
    "Association between Device Type and Customer Satisfaction\n",
    "Background:\n",
    "Mizzare Corporation has collected data on customer satisfaction levels for two types of smart home devices: Smart Thermostats and Smart Lights. They want to determine if there's a significant association between the type of device purchased and the customer's satisfaction level.\n",
    "Data Provided:\n",
    "The data is summarized in a contingency table showing the counts of customers in each satisfaction level for both types of devices:\n",
    "Satisfaction\tSmart Thermostat\tSmart Light\tTotal\n",
    "Very Satisfied\t50\t70\t120\n",
    "Satisfied\t80\t100\t180\n",
    "Neutral\t60\t90\t150\n",
    "Unsatisfied\t30\t50\t80\n",
    "Very Unsatisfied\t20\t50\t70\n",
    "Total\t240\t360\t600\n",
    "Objective:\n",
    "To use the Chi-Square test for independence to determine if there's a significant association between the type of smart home device purchased (Smart Thermostats vs. Smart Lights) and the customer satisfaction level.\n",
    "Assignment Tasks:\n",
    "1. State the Hypotheses:\n",
    "2. Compute the Chi-Square Statistic:\n",
    "3. Determine the Critical Value:\n",
    "Using the significance level (alpha) of 0.05 and the degrees of freedom (which is the number of categories minus 1)\n",
    "4. Make a Decision:\n",
    "Compare the Chi-Square statistic with the critical value to decide whether to reject the null hypothesis.\n",
    "Submission Guidelines:\n",
    "•\tProvide a detailed report of your analysis, including each step outlined in the assignment tasks in a python file.\n",
    "•\tInclude all calculations, the Chi-Square statistic, the critical value, and your conclusion.\n"
   ]
  },
  {
   "cell_type": "code",
   "execution_count": 67,
   "id": "f210e9ee-0daf-4a0a-a496-faf1798064c7",
   "metadata": {},
   "outputs": [],
   "source": [
    "import scipy.stats as stats\n",
    "from scipy.stats import chi2_contingency\n",
    "import numpy as np\n",
    "import pandas as pd"
   ]
  },
  {
   "cell_type": "code",
   "execution_count": 69,
   "id": "04a2b557-1a90-4b4a-b9a5-cbe4181c7ab7",
   "metadata": {},
   "outputs": [],
   "source": [
    "#given data\n",
    "alpha=0.05"
   ]
  },
  {
   "cell_type": "markdown",
   "id": "54ad3aae-aac8-4b9c-a6d7-b17b89f206bc",
   "metadata": {},
   "source": [
    "# State the Hypotheses:\n",
    "## Null Hypothesis (H₀): There is no significant association between the type of device purchased (Smart Thermostats vs. Smart Lights) and customer satisfaction level.\n",
    "## Alternative Hypothesis (H₁): There is a significant association between the type of device purchased and customer satisfaction level."
   ]
  },
  {
   "cell_type": "code",
   "execution_count": 100,
   "id": "6f395d3b-dbbc-410a-8d28-a8abd06aeb03",
   "metadata": {},
   "outputs": [],
   "source": [
    "#Observed frequencies\n",
    "observed = np.array([[50, 70], #very satisfied\n",
    "                     [80, 100],#satisfied\n",
    "                     [60, 90], #Neutral\n",
    "                     [30, 50],#Unsatisfied\n",
    "                     [20, 50]])#very unsatisfied"
   ]
  },
  {
   "cell_type": "markdown",
   "id": "c39c4d23-1dc8-417b-8464-e176ac0cb9be",
   "metadata": {},
   "source": [
    "# performing chisquare statistics"
   ]
  },
  {
   "cell_type": "code",
   "execution_count": 110,
   "id": "1621e9ef-44da-4c57-a84b-9e01fcc64c7f",
   "metadata": {},
   "outputs": [
    {
     "name": "stdout",
     "output_type": "stream",
     "text": [
      "Chi-Square Statistic: 5.638227513227513\n",
      "P-Value: 0.22784371130697179\n",
      "Degrees of Freedom: 4\n",
      "Expected Frequency: [[ 48.  72.]\n",
      " [ 72. 108.]\n",
      " [ 60.  90.]\n",
      " [ 32.  48.]\n",
      " [ 28.  42.]]\n"
     ]
    }
   ],
   "source": [
    "#by using this code we will find chi_stats,p_value,dof and expected frequency\n",
    "\n",
    "chi2_stat, p_value, dof, expected = stats.chi2_contingency(observed)\n",
    "\n",
    "print(\"Chi-Square Statistic:\", chi2_stat)         #chi2_stats value\n",
    "print(\"P-Value:\", p_value)                        #this gives p value\n",
    "print(\"Degrees of Freedom:\", dof)                 #degree of freedom\n",
    "print(\"Expected Frequency:\",expected)             #expected frequency from observed frequency"
   ]
  },
  {
   "cell_type": "code",
   "execution_count": 102,
   "id": "7d26dba1-684b-4ba9-bcaa-ecd34028209b",
   "metadata": {},
   "outputs": [],
   "source": [
    "#  we can also calculate chisquare stats by using the below formula manually:\n",
    "# chi_sqr_stats=sum(expected-observed)**2/expected"
   ]
  },
  {
   "cell_type": "markdown",
   "id": "c48b3cb7-c737-4fbc-b9f0-110a09844cb8",
   "metadata": {},
   "source": [
    "# Critical value"
   ]
  },
  {
   "cell_type": "code",
   "execution_count": 35,
   "id": "40d031cb-eae1-42a5-8857-fe03b3566794",
   "metadata": {},
   "outputs": [
    {
     "data": {
      "text/plain": [
       "9.487729036781154"
      ]
     },
     "execution_count": 35,
     "metadata": {},
     "output_type": "execute_result"
    }
   ],
   "source": [
    "critical_value = stats.chi2.ppf(1 - alpha, dof) #Using the significance level (alpha) of 0.05 and the degrees of freedom (which is the number of categories minus 1)\n",
    "critical_value"
   ]
  },
  {
   "cell_type": "code",
   "execution_count": 76,
   "id": "76c78d78-2d64-4fbe-94a7-8b602e24a76f",
   "metadata": {},
   "outputs": [
    {
     "name": "stdout",
     "output_type": "stream",
     "text": [
      "Chi-Square Statistic: 5.638227513227513\n",
      "P-Value: 0.22784371130697179\n",
      "Degrees of Freedom: 4\n",
      "Critical Value at alpha = 0.05: 9.487729036781154\n"
     ]
    }
   ],
   "source": [
    "print(\"Critical Value at alpha = 0.05:\", critical_value)"
   ]
  },
  {
   "cell_type": "markdown",
   "id": "4fb5618b-c01c-40f9-9fb4-3931660948b4",
   "metadata": {},
   "source": [
    "# Decision"
   ]
  },
  {
   "cell_type": "raw",
   "id": "2649c447-33d2-4273-8219-f51548b78252",
   "metadata": {},
   "source": [
    "# Conclusion:\n",
    "P-value :- 0.23\n",
    "Since the Chi-Square statistic (5.64) is less than the critical value (9.49), and the p-value (0.23) is greater than the significance level (0.05), we fail to reject the null hypothesis."
   ]
  },
  {
   "cell_type": "code",
   "execution_count": 108,
   "id": "548d8938-7d7c-4510-9e8f-21a97f116bb1",
   "metadata": {},
   "outputs": [
    {
     "name": "stdout",
     "output_type": "stream",
     "text": [
      "Fail to reject the null hypothesis: There is no significant association between the type of device and customer satisfaction.\n"
     ]
    }
   ],
   "source": [
    "if chi2_stat > critical_value:\n",
    "    print(\"Reject the null hypothesis: That means, There is a significant association between the type of device and customer satisfaction.\")\n",
    "else:\n",
    "    print(\"Fail to reject the null hypothesis: There is no significant association between the type of device and customer satisfaction.\")"
   ]
  },
  {
   "cell_type": "markdown",
   "id": "f6852037-b493-4798-a854-ac90d80c67a1",
   "metadata": {},
   "source": [
    "# Chisquare Stats is less than critical value so we fail to reject null hypothersis, There is No Association between the type of device and custome satisfaction."
   ]
  }
 ],
 "metadata": {
  "kernelspec": {
   "display_name": "Python 3 (ipykernel)",
   "language": "python",
   "name": "python3"
  },
  "language_info": {
   "codemirror_mode": {
    "name": "ipython",
    "version": 3
   },
   "file_extension": ".py",
   "mimetype": "text/x-python",
   "name": "python",
   "nbconvert_exporter": "python",
   "pygments_lexer": "ipython3",
   "version": "3.12.4"
  }
 },
 "nbformat": 4,
 "nbformat_minor": 5
}
