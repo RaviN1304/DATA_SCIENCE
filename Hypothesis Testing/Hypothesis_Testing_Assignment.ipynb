{
 "cells": [
  {
   "cell_type": "raw",
   "id": "8d212c53-bdfd-4e4f-b4b6-d2115f44e26c",
   "metadata": {},
   "source": [
    "Background:\n",
    "Bombay hospitality Ltd. operates a franchise model for producing exotic Norwegian dinners throughout New England. The operating cost for a franchise in a week (W) is given by the equation W = $1,000 + $5X, where X represents the number of units produced in a week. Recent feedback from restaurant owners suggests that this cost model may no longer be accurate, as their observed weekly operating costs are higher.\n",
    "Objective:\n",
    "To investigate the restaurant owners' claim about the increase in weekly operating costs using hypothesis testing.\n",
    "Data Provided:\n",
    "•\tThe theoretical weekly operating cost model: W = $1,000 + $5X\n",
    "•\tSample of 25 restaurants with a mean weekly cost of Rs. 3,050\n",
    "•\tNumber of units produced in a week (X) follows a normal distribution with a mean (μ) of 600 units and a standard deviation (σ) of 25 units\n",
    "Assignment Tasks:\n",
    "1. State the Hypotheses statement:\n",
    "2. Calculate the Test Statistic:\n",
    "Use the following formula to calculate the test statistic (t):\n",
    "where:\n",
    "•\tˉxˉ = sample mean weekly cost (Rs. 3,050)\n",
    "•\tμ = theoretical mean weekly cost according to the cost model (W = $1,000 + $5X for X = 600 units)\n",
    "•\tσ = 5*25 units\n",
    "•\tn = sample size (25 restaurants)\n",
    "3. Determine the Critical Value:\n",
    "Using the alpha level of 5% (α = 0.05), determine the critical value from the standard normal (Z) distribution table.\n",
    "4. Make a Decision:\n",
    "Compare the test statistic with the critical value to decide whether to reject the null hypothesis.\n",
    "5. Conclusion:\n",
    "Based on the decision in step 4, conclude whether there is strong evidence to support the restaurant owners' claim that the weekly operating costs are higher than the model suggests.\n",
    "\n",
    "Submission Guidelines:\n",
    "•\tPrepare python file detailing each step of your hypothesis testing process.\n",
    "•\tInclude calculations for the test statistic and the critical value.\n",
    "•\tProvide a clear conclusion based on your analysis.\n",
    "\n"
   ]
  },
  {
   "cell_type": "code",
   "execution_count": 1,
   "id": "a634f2a1-76e3-4c0b-9eee-40f262127264",
   "metadata": {},
   "outputs": [],
   "source": [
    "# given data,\n",
    "\n",
    "x_bar = 3050 #sample mean\n",
    "n= 25 #sample size ie no.of restaurants\n",
    "sigma= 5*25 #units\n",
    "mean=1000+5*600 #theoretical mean weekly cost according to the cost model (W = $1,000 + $5X for X = 600 units)"
   ]
  },
  {
   "cell_type": "code",
   "execution_count": 5,
   "id": "491bca38-7e12-47c8-b8b6-029954bd5969",
   "metadata": {},
   "outputs": [],
   "source": [
    "# importing packages first:\n",
    "\n",
    "import scipy.stats as stats\n",
    "import numpy as np\n",
    "import math"
   ]
  },
  {
   "cell_type": "markdown",
   "id": "8fbff13e-5ee4-4d3f-887c-8bebc70b973a",
   "metadata": {},
   "source": [
    "# State the Hypothesis"
   ]
  },
  {
   "cell_type": "code",
   "execution_count": null,
   "id": "02c55a06-c81c-4fe7-a146-e5e95296ef74",
   "metadata": {},
   "outputs": [],
   "source": [
    "# This is one tailed test."
   ]
  },
  {
   "cell_type": "raw",
   "id": "6ce1c686-d145-4597-a646-037c354e4e46",
   "metadata": {},
   "source": [
    "H0 (Null Hypothesis): The weekly operating cost is equal to or less than the model's cost.\n",
    "H1 (Alternative Hypothesis): The weekly operating cost is greater than the model's cost."
   ]
  },
  {
   "cell_type": "code",
   "execution_count": 19,
   "id": "2ee7b10c-88d5-4d60-97a5-bbecb1307707",
   "metadata": {},
   "outputs": [
    {
     "data": {
      "text/plain": [
       "-38.0"
      ]
     },
     "execution_count": 19,
     "metadata": {},
     "output_type": "execute_result"
    }
   ],
   "source": [
    "# Calculate the test statistics by using formula and using given data:\n",
    "\n",
    "t_stats=(x_bar - mean) / (sigma / math.sqrt(n))\n",
    "t_stats"
   ]
  },
  {
   "cell_type": "code",
   "execution_count": 41,
   "id": "e47aedf3-eaaf-455b-8dbf-bd6ec92202f3",
   "metadata": {},
   "outputs": [],
   "source": [
    "# Determine the Critical Value using, one tailed test at alpha = 0.05\n",
    "alpha=0.05\n",
    "CI=0.95 # confidence interval is (1-alpha)"
   ]
  },
  {
   "cell_type": "code",
   "execution_count": 43,
   "id": "784c573b-0b19-442b-9e0a-13fed5c480ae",
   "metadata": {},
   "outputs": [
    {
     "data": {
      "text/plain": [
       "1.6448536269514722"
      ]
     },
     "execution_count": 43,
     "metadata": {},
     "output_type": "execute_result"
    }
   ],
   "source": [
    "critical_value=stats.norm.ppf(0.95)\n",
    "critical_value"
   ]
  },
  {
   "cell_type": "markdown",
   "id": "d910bc24-758f-4109-8888-c33b860e2c9c",
   "metadata": {},
   "source": [
    "# Decision"
   ]
  },
  {
   "cell_type": "code",
   "execution_count": 46,
   "id": "c36f2cac-a2c6-4120-80bf-d79d4dd4d521",
   "metadata": {},
   "outputs": [
    {
     "name": "stdout",
     "output_type": "stream",
     "text": [
      "Fail to reject the null hypothesis,weekly operating cost is equal or less than the model's cost\n"
     ]
    }
   ],
   "source": [
    "if t_stats > critical_value:\n",
    "    print(\"Reject the null hypothesis, That means The weekly operating cost is greater than the model's cost\")\n",
    "else:\n",
    "    print(\"Fail to reject the null hypothesis,weekly operating cost is equal or less than the model's cost\")"
   ]
  },
  {
   "cell_type": "markdown",
   "id": "6d328ac8-3eaf-42bb-9e07-352f9cb84c7c",
   "metadata": {},
   "source": [
    "# Conclusion"
   ]
  },
  {
   "cell_type": "markdown",
   "id": "7217c9e7-28c5-421e-8f23-ccd3afa1f995",
   "metadata": {},
   "source": [
    "# There is no significant evidence to support the claim that the weekly operating costs are higher than the model suggests. Therefore, the theoretical cost model still holds based on this sample data."
   ]
  },
  {
   "cell_type": "markdown",
   "id": "604a3ab8-b458-4095-8246-9b21ae0def5b",
   "metadata": {},
   "source": [
    "# Since the test statistic (-38.00) is much smaller than the critical value (1.64), this means that the sample data does not provide enough evidence to suggest that the actual weekly operating costs are significantly higher than what the cost model predicts."
   ]
  },
  {
   "cell_type": "markdown",
   "id": "08c8a025-2b9c-424d-a465-649983249fc6",
   "metadata": {},
   "source": [
    "# Alternative Conclusion:\n",
    "# The data does not support the restaurant owners' claim that the weekly operating costs have increased beyond the predicted levels of the cost model. Therefore, we continue to assume that the current model is accurate for now."
   ]
  },
  {
   "cell_type": "code",
   "execution_count": null,
   "id": "f33d3107-5bbb-466d-b0a8-10dbfbe247b7",
   "metadata": {},
   "outputs": [],
   "source": []
  }
 ],
 "metadata": {
  "kernelspec": {
   "display_name": "Python 3 (ipykernel)",
   "language": "python",
   "name": "python3"
  },
  "language_info": {
   "codemirror_mode": {
    "name": "ipython",
    "version": 3
   },
   "file_extension": ".py",
   "mimetype": "text/x-python",
   "name": "python",
   "nbconvert_exporter": "python",
   "pygments_lexer": "ipython3",
   "version": "3.12.4"
  }
 },
 "nbformat": 4,
 "nbformat_minor": 5
}
